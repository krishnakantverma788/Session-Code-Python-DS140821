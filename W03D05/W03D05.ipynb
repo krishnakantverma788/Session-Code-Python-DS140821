{
 "cells": [
  {
   "cell_type": "markdown",
   "metadata": {},
   "source": [
    "## Q1)find out the largest and smallest word in the string \"The Surprising Benefits of Sarcasm\".\n",
    "\n",
    "### Intuition: How can we split the words such that we can count their length and compare with each other?\n",
    "\n",
    "### Pseudocode:\n",
    "    1.)Take maxx as -inf, and minn as +inf\n",
    "    2.)convert the string into a list using split() function\n",
    "    3.)loop/iterate through the list and find the maximum length word by using len() function.\n",
    "    Similarly the minimum"
   ]
  },
  {
   "cell_type": "code",
   "execution_count": 6,
   "metadata": {},
   "outputs": [
    {
     "name": "stdout",
     "output_type": "stream",
     "text": [
      "Biggest Word is Surprising\n",
      "Smallest Word is of\n"
     ]
    }
   ],
   "source": [
    "x = \"The Surprising Benefits of Sarcasm\"\n",
    "y = x.split()\n",
    "z = []\n",
    "for i in y:\n",
    "    z.append(len(i))\n",
    "max_length = max(z)\n",
    "min_length = min(z)\n",
    "\n",
    "for word in y:\n",
    "    if len(word) == max_length:\n",
    "        print('Biggest Word is',word)\n",
    "    if len(word) == min_length:\n",
    "        print('Smallest Word is',word)"
   ]
  },
  {
   "cell_type": "code",
   "execution_count": 11,
   "metadata": {},
   "outputs": [
    {
     "name": "stdout",
     "output_type": "stream",
     "text": [
      "['The', 'Quick', 'Brown', 'Fox', 'Jumps', 'Over', 'a', 'Lazy', 'Dog.', 'x']\n",
      "[3, 5, 5, 3, 5, 4, 1, 4, 4, 1]\n",
      "Biggest Word is Quick\n",
      "Biggest Word is Brown\n",
      "Biggest Word is Jumps\n",
      "Smallest Word is a\n",
      "Smallest Word is x\n"
     ]
    }
   ],
   "source": [
    "x = \"The Quick Brown Fox Jumps Over a Lazy Dog. x\"\n",
    "y = x.split()\n",
    "print(y)\n",
    "z = []\n",
    "for word in y:\n",
    "    z.append(len(word))\n",
    "print(z)\n",
    "max_length = max(z)\n",
    "min_length = min(z)\n",
    "\n",
    "for word in y:\n",
    "    if len(word) == max_length:\n",
    "        print('Biggest Word is',word)\n",
    "    if len(word) == min_length:\n",
    "        print('Smallest Word is',word)"
   ]
  },
  {
   "cell_type": "code",
   "execution_count": 17,
   "metadata": {},
   "outputs": [
    {
     "name": "stdout",
     "output_type": "stream",
     "text": [
      "['The', 'Quick', 'Brown', 'Fox', 'Jumps', 'Over', 'a', 'Lazy', 'Dog.', 'x']\n",
      "[3, 5, 5, 3, 5, 4, 1, 4, 4, 1]\n",
      "Biggest Word is Quick\n",
      "Biggest Word is Brown\n",
      "Biggest Word is Jumps\n",
      "Smallest Word is a\n",
      "Smallest Word is x\n"
     ]
    }
   ],
   "source": [
    "x = \"The Quick Brown Fox Jumps Over a Lazy Dog. x\"\n",
    "y = x.split()\n",
    "print(y)\n",
    "z = []\n",
    "for word in y:\n",
    "    z.append(len(word))\n",
    "print(z)\n",
    "max_length = max(z)\n",
    "min_length = min(z)\n",
    "\n",
    "index = 0\n",
    "for length in z:\n",
    "    if length == max_length:\n",
    "        print('Biggest Word is',y[index])\n",
    "    if length == min_length:\n",
    "        print('Smallest Word is',y[index])\n",
    "    index+=1"
   ]
  },
  {
   "cell_type": "code",
   "execution_count": 14,
   "metadata": {},
   "outputs": [
    {
     "name": "stdout",
     "output_type": "stream",
     "text": [
      "['The', 'Quick', 'Brown', 'Fox', 'Jumps', 'Over', 'a', 'Lazy', 'Dog.', 'x']\n",
      "The longest word is  Quick\n",
      "The shortest word is  a\n"
     ]
    }
   ],
   "source": [
    "x=\"The Quick Brown Fox Jumps Over a Lazy Dog. x\"\n",
    "y=x.split()\n",
    "print(y)\n",
    "m=y[0]\n",
    "t=y[0]\n",
    "for i in y:\n",
    "    if len(i)>len(m):\n",
    "        m=i\n",
    "    if len(i)<len(t):\n",
    "        t=i\n",
    "print(\"The longest word is \",m)\n",
    "print(\"The shortest word is \",t)"
   ]
  },
  {
   "cell_type": "code",
   "execution_count": null,
   "metadata": {},
   "outputs": [],
   "source": [
    "QUESTIONS: TECHNICAL PROBLEMS (NOT PROGRAMMING)"
   ]
  },
  {
   "cell_type": "code",
   "execution_count": null,
   "metadata": {},
   "outputs": [],
   "source": [
    "Doubts: Programming"
   ]
  },
  {
   "cell_type": "code",
   "execution_count": 18,
   "metadata": {},
   "outputs": [
    {
     "data": {
      "text/plain": [
       "97"
      ]
     },
     "execution_count": 18,
     "metadata": {},
     "output_type": "execute_result"
    }
   ],
   "source": [
    "ord('a')"
   ]
  },
  {
   "cell_type": "code",
   "execution_count": null,
   "metadata": {},
   "outputs": [],
   "source": [
    "ord() fun gives the ascii value of any character in the keyboard."
   ]
  },
  {
   "cell_type": "code",
   "execution_count": 19,
   "metadata": {},
   "outputs": [
    {
     "data": {
      "text/plain": [
       "'a'"
      ]
     },
     "execution_count": 19,
     "metadata": {},
     "output_type": "execute_result"
    }
   ],
   "source": [
    "chr(97)"
   ]
  },
  {
   "cell_type": "code",
   "execution_count": 22,
   "metadata": {},
   "outputs": [
    {
     "name": "stdout",
     "output_type": "stream",
     "text": [
      "you class is 8 and you room is 105\n",
      "you class is 9 and you room is 106\n"
     ]
    }
   ],
   "source": [
    "Room_Class = [(8,105),(9,106)]\n",
    "for c,room in Room_Class:\n",
    "    subject=\"you class is {classs} and you room is {room}\".format(classs=c,room=room)\n",
    "    print(subject)"
   ]
  },
  {
   "cell_type": "code",
   "execution_count": 25,
   "metadata": {},
   "outputs": [
    {
     "name": "stdout",
     "output_type": "stream",
     "text": [
      "0\n",
      "1\n",
      "2\n",
      "3\n",
      "4\n",
      "5\n",
      "6\n",
      "7\n",
      "8\n",
      "9\n",
      "10\n"
     ]
    }
   ],
   "source": [
    "x = True\n",
    "\n",
    "count = 0\n",
    "while x == True:\n",
    "    print(count)\n",
    "    if count == 10:\n",
    "        x = False\n",
    "    count+=1"
   ]
  },
  {
   "cell_type": "code",
   "execution_count": null,
   "metadata": {},
   "outputs": [],
   "source": [
    "when we have to use for and while loop\n",
    "\n",
    "Whenever we have to conditinally run some code, and we don't know how many times \n",
    "this might run, we will usually be taking while loop\n",
    "\n",
    "Other wise If we know like I want to run a loop from 1 to 10, and also I want to loop over\n",
    "a colleciton of items(elements of lists, keys in dicts,etc) we will use for loop."
   ]
  },
  {
   "cell_type": "markdown",
   "metadata": {},
   "source": [
    "## Q2.) Make a list with alphabets from m to z\n",
    "\n",
    "### Intuition: Range function can create numbers and chr() can convert them to alphabets\n",
    "\n",
    "### Pseudocode:\n",
    "    1.) Create an empty list\n",
    "    2.) make 2 variables for start and end alphabets. convert them to numbers\n",
    "    3.) loop from start to end and convert each one of them to alphabet\n",
    "    4.) save each one of them to list."
   ]
  },
  {
   "cell_type": "code",
   "execution_count": 2,
   "metadata": {},
   "outputs": [
    {
     "data": {
      "text/plain": [
       "'a'"
      ]
     },
     "execution_count": 2,
     "metadata": {},
     "output_type": "execute_result"
    }
   ],
   "source": [
    "chr(97)"
   ]
  },
  {
   "cell_type": "code",
   "execution_count": 3,
   "metadata": {},
   "outputs": [
    {
     "data": {
      "text/plain": [
       "'b'"
      ]
     },
     "execution_count": 3,
     "metadata": {},
     "output_type": "execute_result"
    }
   ],
   "source": [
    "chr(98)"
   ]
  },
  {
   "cell_type": "code",
   "execution_count": 4,
   "metadata": {},
   "outputs": [
    {
     "data": {
      "text/plain": [
       "109"
      ]
     },
     "execution_count": 4,
     "metadata": {},
     "output_type": "execute_result"
    }
   ],
   "source": [
    "ord('m')"
   ]
  },
  {
   "cell_type": "code",
   "execution_count": 5,
   "metadata": {},
   "outputs": [
    {
     "data": {
      "text/plain": [
       "'m'"
      ]
     },
     "execution_count": 5,
     "metadata": {},
     "output_type": "execute_result"
    }
   ],
   "source": [
    "chr(109)"
   ]
  },
  {
   "cell_type": "code",
   "execution_count": 7,
   "metadata": {},
   "outputs": [
    {
     "data": {
      "text/plain": [
       "'z'"
      ]
     },
     "execution_count": 7,
     "metadata": {},
     "output_type": "execute_result"
    }
   ],
   "source": [
    "chr(122)"
   ]
  },
  {
   "cell_type": "code",
   "execution_count": 8,
   "metadata": {},
   "outputs": [
    {
     "name": "stdout",
     "output_type": "stream",
     "text": [
      "['m', 'n', 'o', 'p', 'q', 'r', 's', 't', 'u', 'v', 'w', 'x', 'y', 'z']\n"
     ]
    }
   ],
   "source": [
    "alphabets = []\n",
    "\n",
    "for no in range(109,123):\n",
    "    alphabets.append(chr(no))\n",
    "    \n",
    "print(alphabets)"
   ]
  },
  {
   "cell_type": "markdown",
   "metadata": {},
   "source": [
    "## Q3.) Find the maximum appearing alphabet in the string \"apple is apple\"\n",
    "### Intuition: Use the learn count function learnt in the previous lesson\n",
    "\n",
    "### Pseudocode:\n",
    "    every char \n",
    "    check if already present in the list or not \n",
    "         if not present :\n",
    "            calculate count \n",
    "            check max count condition "
   ]
  },
  {
   "cell_type": "code",
   "execution_count": 18,
   "metadata": {},
   "outputs": [
    {
     "data": {
      "text/plain": [
       "2"
      ]
     },
     "execution_count": 18,
     "metadata": {},
     "output_type": "execute_result"
    }
   ],
   "source": [
    "x = \"apple is apple @#$^#\"\n",
    "x.count('a')"
   ]
  },
  {
   "cell_type": "code",
   "execution_count": 19,
   "metadata": {},
   "outputs": [
    {
     "data": {
      "text/plain": [
       "4"
      ]
     },
     "execution_count": 19,
     "metadata": {},
     "output_type": "execute_result"
    }
   ],
   "source": [
    "x.count('p')"
   ]
  },
  {
   "cell_type": "code",
   "execution_count": 25,
   "metadata": {},
   "outputs": [],
   "source": [
    "alphabets = []\n",
    "\n",
    "for char in x:\n",
    "    if ord(char) >= 97 and ord(char) <= 122:\n",
    "        alphabets.append(char)\n",
    "list_of_non_duplicate_alphabets = list(set(alphabets))"
   ]
  },
  {
   "cell_type": "code",
   "execution_count": 26,
   "metadata": {},
   "outputs": [
    {
     "name": "stdout",
     "output_type": "stream",
     "text": [
      "['e', 'l', 'a', 'p', 's', 'i']\n"
     ]
    }
   ],
   "source": [
    "print(list_of_non_duplicate_alphabets)"
   ]
  },
  {
   "cell_type": "code",
   "execution_count": 28,
   "metadata": {},
   "outputs": [
    {
     "name": "stdout",
     "output_type": "stream",
     "text": [
      "[2, 2, 2, 4, 1, 1]\n"
     ]
    }
   ],
   "source": [
    "appearance_of_alphabets = []\n",
    "\n",
    "for char in list_of_non_duplicate_alphabets:\n",
    "    appearance_of_alphabets.append(x.count(char))\n",
    "print(appearance_of_alphabets)"
   ]
  },
  {
   "cell_type": "code",
   "execution_count": 29,
   "metadata": {},
   "outputs": [
    {
     "name": "stdout",
     "output_type": "stream",
     "text": [
      "s\n",
      "i\n"
     ]
    }
   ],
   "source": [
    "## wipro drive: which alphabet appeared only once\n",
    "\n",
    "index = 0\n",
    "for app in appearance_of_alphabets:\n",
    "    if app == 1:\n",
    "        print(list_of_non_duplicate_alphabets[index])\n",
    "    index+=1"
   ]
  },
  {
   "cell_type": "code",
   "execution_count": 32,
   "metadata": {},
   "outputs": [
    {
     "name": "stdout",
     "output_type": "stream",
     "text": [
      "4\n",
      "p\n"
     ]
    }
   ],
   "source": [
    "# max no of times.\n",
    "max_app = max(appearance_of_alphabets)\n",
    "print(max_app)\n",
    "\n",
    "index = 0\n",
    "for app in appearance_of_alphabets:\n",
    "    if app == max_app:\n",
    "        print(list_of_non_duplicate_alphabets[index])\n",
    "    index+=1"
   ]
  },
  {
   "cell_type": "code",
   "execution_count": 35,
   "metadata": {},
   "outputs": [
    {
     "name": "stdout",
     "output_type": "stream",
     "text": [
      "['e', 'l', 'a', 'p', 's', 'i']\n",
      "[2, 2, 2, 4, 1, 1]\n",
      "4\n",
      "p\n"
     ]
    }
   ],
   "source": [
    "x = \"apple is apple @#$^#\"\n",
    "\n",
    "# First Objective: Get List of Non Duplicate Alphabets from the String.\n",
    "alphabets = []\n",
    "\n",
    "for char in x:\n",
    "    if ord(char) >= 97 and ord(char) <= 122:\n",
    "        alphabets.append(char)\n",
    "list_of_non_duplicate_alphabets = list(set(alphabets))\n",
    "print(list_of_non_duplicate_alphabets)\n",
    "\n",
    "# Second Objective: Get the occurence of each of the above alphabet in the\n",
    "# given String.\n",
    "\n",
    "appearance_of_alphabets = []\n",
    "\n",
    "for char in list_of_non_duplicate_alphabets:\n",
    "    appearance_of_alphabets.append(x.count(char))\n",
    "print(appearance_of_alphabets)\n",
    "\n",
    "max_app = max(appearance_of_alphabets)\n",
    "print(max_app)\n",
    "\n",
    "index = 0\n",
    "for app in appearance_of_alphabets:\n",
    "    if app == max_app:\n",
    "        print(list_of_non_duplicate_alphabets[index])\n",
    "    index+=1"
   ]
  },
  {
   "cell_type": "code",
   "execution_count": 36,
   "metadata": {},
   "outputs": [
    {
     "name": "stdout",
     "output_type": "stream",
     "text": [
      "['e', 'l', 'a', 'p', 's', 'i']\n",
      "[2, 2, 2, 4, 1, 1]\n",
      "1\n",
      "s\n",
      "i\n"
     ]
    }
   ],
   "source": [
    "x = \"apple is apple @#$^#\"\n",
    "\n",
    "# First Objective: Get List of Non Duplicate Alphabets from the String.\n",
    "alphabets = []\n",
    "\n",
    "for char in x:\n",
    "    if ord(char) >= 97 and ord(char) <= 122:\n",
    "        alphabets.append(char)\n",
    "list_of_non_duplicate_alphabets = list(set(alphabets))\n",
    "print(list_of_non_duplicate_alphabets)\n",
    "\n",
    "# Second Objective: Get the occurence of each of the above alphabet in the\n",
    "# given String.\n",
    "\n",
    "appearance_of_alphabets = []\n",
    "\n",
    "for char in list_of_non_duplicate_alphabets:\n",
    "    appearance_of_alphabets.append(x.count(char))\n",
    "print(appearance_of_alphabets)\n",
    "\n",
    "max_app = min(appearance_of_alphabets)\n",
    "print(max_app)\n",
    "\n",
    "index = 0\n",
    "for app in appearance_of_alphabets:\n",
    "    if app == max_app:\n",
    "        print(list_of_non_duplicate_alphabets[index])\n",
    "    index+=1"
   ]
  },
  {
   "cell_type": "markdown",
   "metadata": {},
   "source": [
    "# insert in lists"
   ]
  },
  {
   "cell_type": "code",
   "execution_count": 37,
   "metadata": {},
   "outputs": [
    {
     "name": "stdout",
     "output_type": "stream",
     "text": [
      "[2000, 10, 20, 30, 40]\n"
     ]
    }
   ],
   "source": [
    "l = [10,20,30,40]\n",
    "\n",
    "# l.insert(index_position, item)\n",
    "l.insert(0,2000)\n",
    "print(l)"
   ]
  },
  {
   "cell_type": "code",
   "execution_count": 38,
   "metadata": {},
   "outputs": [
    {
     "name": "stdout",
     "output_type": "stream",
     "text": [
      "[2000, 4000, 10, 20, 30, 40]\n"
     ]
    }
   ],
   "source": [
    "l.insert(1,4000)\n",
    "print(l)"
   ]
  },
  {
   "cell_type": "code",
   "execution_count": 39,
   "metadata": {},
   "outputs": [
    {
     "name": "stdout",
     "output_type": "stream",
     "text": [
      "[2000, 4000, 10, 20, 30, 40, 4000]\n"
     ]
    }
   ],
   "source": [
    "l.insert(10,4000)\n",
    "print(l)"
   ]
  },
  {
   "cell_type": "code",
   "execution_count": 40,
   "metadata": {},
   "outputs": [
    {
     "name": "stdout",
     "output_type": "stream",
     "text": [
      "[2000, 4000, 10, 20, 30, 40, 4000, 'mango']\n"
     ]
    }
   ],
   "source": [
    "l.insert(200,'mango')\n",
    "print(l)"
   ]
  },
  {
   "cell_type": "code",
   "execution_count": null,
   "metadata": {},
   "outputs": [],
   "source": [
    "# delete operations in lists\n",
    "\n",
    "pop => takes index, by default it has the index of last element, it\n",
    "returns the element which it removed.\n",
    "\n",
    "remove => takes value, it will not return anything\n",
    "\n",
    "clear => remove all the elements, it makes the list empty.\n",
    "\n",
    "del => deletes the res as well as the name of the list."
   ]
  },
  {
   "cell_type": "code",
   "execution_count": 41,
   "metadata": {},
   "outputs": [
    {
     "name": "stdout",
     "output_type": "stream",
     "text": [
      "[2000, 4000, 10, 20, 30, 40, 4000, 'mango']\n"
     ]
    }
   ],
   "source": [
    "print(l)"
   ]
  },
  {
   "cell_type": "code",
   "execution_count": 42,
   "metadata": {},
   "outputs": [
    {
     "data": {
      "text/plain": [
       "'mango'"
      ]
     },
     "execution_count": 42,
     "metadata": {},
     "output_type": "execute_result"
    }
   ],
   "source": [
    "l.pop()"
   ]
  },
  {
   "cell_type": "code",
   "execution_count": 43,
   "metadata": {},
   "outputs": [
    {
     "data": {
      "text/plain": [
       "4000"
      ]
     },
     "execution_count": 43,
     "metadata": {},
     "output_type": "execute_result"
    }
   ],
   "source": [
    "l.pop()"
   ]
  },
  {
   "cell_type": "code",
   "execution_count": 44,
   "metadata": {},
   "outputs": [
    {
     "name": "stdout",
     "output_type": "stream",
     "text": [
      "[2000, 4000, 10, 20, 30, 40]\n"
     ]
    }
   ],
   "source": [
    "print(l)"
   ]
  },
  {
   "cell_type": "code",
   "execution_count": 45,
   "metadata": {},
   "outputs": [
    {
     "data": {
      "text/plain": [
       "2000"
      ]
     },
     "execution_count": 45,
     "metadata": {},
     "output_type": "execute_result"
    }
   ],
   "source": [
    "l.pop(0)"
   ]
  },
  {
   "cell_type": "code",
   "execution_count": 46,
   "metadata": {},
   "outputs": [
    {
     "name": "stdout",
     "output_type": "stream",
     "text": [
      "[4000, 10, 20, 30, 40]\n"
     ]
    }
   ],
   "source": [
    "print(l)"
   ]
  },
  {
   "cell_type": "code",
   "execution_count": 47,
   "metadata": {},
   "outputs": [],
   "source": [
    "l.remove(4000)"
   ]
  },
  {
   "cell_type": "code",
   "execution_count": 48,
   "metadata": {},
   "outputs": [
    {
     "name": "stdout",
     "output_type": "stream",
     "text": [
      "[10, 20, 30, 40]\n"
     ]
    }
   ],
   "source": [
    "print(l)"
   ]
  },
  {
   "cell_type": "code",
   "execution_count": 49,
   "metadata": {},
   "outputs": [
    {
     "ename": "ValueError",
     "evalue": "list.remove(x): x not in list",
     "output_type": "error",
     "traceback": [
      "\u001b[1;31m---------------------------------------------------------------------------\u001b[0m",
      "\u001b[1;31mValueError\u001b[0m                                Traceback (most recent call last)",
      "\u001b[1;32m<ipython-input-49-b590a5234730>\u001b[0m in \u001b[0;36m<module>\u001b[1;34m\u001b[0m\n\u001b[1;32m----> 1\u001b[1;33m \u001b[0ml\u001b[0m\u001b[1;33m.\u001b[0m\u001b[0mremove\u001b[0m\u001b[1;33m(\u001b[0m\u001b[1;34m'mango'\u001b[0m\u001b[1;33m)\u001b[0m\u001b[1;33m\u001b[0m\u001b[1;33m\u001b[0m\u001b[0m\n\u001b[0m",
      "\u001b[1;31mValueError\u001b[0m: list.remove(x): x not in list"
     ]
    }
   ],
   "source": [
    "l.remove('mango')"
   ]
  },
  {
   "cell_type": "code",
   "execution_count": 50,
   "metadata": {},
   "outputs": [
    {
     "name": "stdout",
     "output_type": "stream",
     "text": [
      "[10, 20, 30, 40]\n"
     ]
    }
   ],
   "source": [
    "print(l)"
   ]
  },
  {
   "cell_type": "code",
   "execution_count": 51,
   "metadata": {},
   "outputs": [],
   "source": [
    "l.clear()"
   ]
  },
  {
   "cell_type": "code",
   "execution_count": 52,
   "metadata": {},
   "outputs": [
    {
     "name": "stdout",
     "output_type": "stream",
     "text": [
      "[]\n"
     ]
    }
   ],
   "source": [
    "print(l)"
   ]
  },
  {
   "cell_type": "code",
   "execution_count": 53,
   "metadata": {},
   "outputs": [
    {
     "name": "stdout",
     "output_type": "stream",
     "text": [
      "['apple', 'mango', 'kiwi']\n"
     ]
    }
   ],
   "source": [
    "l = ['apple','mango','kiwi']\n",
    "print(l)"
   ]
  },
  {
   "cell_type": "code",
   "execution_count": 54,
   "metadata": {},
   "outputs": [
    {
     "name": "stdout",
     "output_type": "stream",
     "text": [
      "[]\n"
     ]
    }
   ],
   "source": [
    "l.clear()\n",
    "print(l)"
   ]
  },
  {
   "cell_type": "code",
   "execution_count": 55,
   "metadata": {},
   "outputs": [
    {
     "name": "stdout",
     "output_type": "stream",
     "text": [
      "['apple', 'mango', 'kiwi']\n"
     ]
    }
   ],
   "source": [
    "l = ['apple','mango','kiwi']\n",
    "print(l)"
   ]
  },
  {
   "cell_type": "code",
   "execution_count": 56,
   "metadata": {},
   "outputs": [],
   "source": [
    "del l"
   ]
  },
  {
   "cell_type": "code",
   "execution_count": 57,
   "metadata": {},
   "outputs": [
    {
     "ename": "NameError",
     "evalue": "name 'l' is not defined",
     "output_type": "error",
     "traceback": [
      "\u001b[1;31m---------------------------------------------------------------------------\u001b[0m",
      "\u001b[1;31mNameError\u001b[0m                                 Traceback (most recent call last)",
      "\u001b[1;32m<ipython-input-57-e6f469464218>\u001b[0m in \u001b[0;36m<module>\u001b[1;34m\u001b[0m\n\u001b[1;32m----> 1\u001b[1;33m \u001b[0mprint\u001b[0m\u001b[1;33m(\u001b[0m\u001b[0ml\u001b[0m\u001b[1;33m)\u001b[0m\u001b[1;33m\u001b[0m\u001b[1;33m\u001b[0m\u001b[0m\n\u001b[0m",
      "\u001b[1;31mNameError\u001b[0m: name 'l' is not defined"
     ]
    }
   ],
   "source": [
    "print(l)"
   ]
  },
  {
   "cell_type": "markdown",
   "metadata": {},
   "source": [
    "# sort,index,count in lists"
   ]
  },
  {
   "cell_type": "code",
   "execution_count": null,
   "metadata": {},
   "outputs": [],
   "source": [
    "sorting: means arranging elements in an order like ascending or descending\n",
    "    based on certain value."
   ]
  },
  {
   "cell_type": "code",
   "execution_count": null,
   "metadata": {},
   "outputs": [],
   "source": [
    "[1,2,3,4,5,6,7,7] -> Ascending order\n",
    "[30,10,9,7,6,3,1,0] -> Descending order"
   ]
  },
  {
   "cell_type": "code",
   "execution_count": 58,
   "metadata": {},
   "outputs": [],
   "source": [
    "l = [89,1,90,34,28,39,2,19]\n",
    "l.sort()"
   ]
  },
  {
   "cell_type": "code",
   "execution_count": 59,
   "metadata": {},
   "outputs": [
    {
     "name": "stdout",
     "output_type": "stream",
     "text": [
      "[1, 2, 19, 28, 34, 39, 89, 90]\n"
     ]
    }
   ],
   "source": [
    "print(l)"
   ]
  },
  {
   "cell_type": "code",
   "execution_count": 60,
   "metadata": {},
   "outputs": [
    {
     "name": "stdout",
     "output_type": "stream",
     "text": [
      "[90, 89, 39, 34, 28, 19, 2, 1]\n"
     ]
    }
   ],
   "source": [
    "l = [89,1,90,34,28,39,2,19]\n",
    "l.sort(reverse=True)\n",
    "print(l)"
   ]
  },
  {
   "cell_type": "code",
   "execution_count": 63,
   "metadata": {},
   "outputs": [
    {
     "name": "stdout",
     "output_type": "stream",
     "text": [
      "[90, 89, 39, 34, 28, 19, 2, 1]\n"
     ]
    }
   ],
   "source": [
    "l = [89,1,90,34,28,39,2,19]\n",
    "l = sorted(l,reverse=True)\n",
    "print(l)"
   ]
  },
  {
   "cell_type": "code",
   "execution_count": 68,
   "metadata": {},
   "outputs": [
    {
     "name": "stdout",
     "output_type": "stream",
     "text": [
      "[1, 2, 19, 28, 34, 39, 89, 90]\n"
     ]
    }
   ],
   "source": [
    "l = [89,1,90,34,28,39,2,19]\n",
    "m = sorted(l)\n",
    "print(m)"
   ]
  },
  {
   "cell_type": "code",
   "execution_count": 65,
   "metadata": {},
   "outputs": [
    {
     "data": {
      "text/plain": [
       "2"
      ]
     },
     "execution_count": 65,
     "metadata": {},
     "output_type": "execute_result"
    }
   ],
   "source": [
    "l = [89,1,90,34,28,39,2,19,89]\n",
    "\n",
    "l.count(89)"
   ]
  },
  {
   "cell_type": "code",
   "execution_count": 66,
   "metadata": {},
   "outputs": [
    {
     "data": {
      "text/plain": [
       "1"
      ]
     },
     "execution_count": 66,
     "metadata": {},
     "output_type": "execute_result"
    }
   ],
   "source": [
    "l.count(90)"
   ]
  },
  {
   "cell_type": "code",
   "execution_count": 67,
   "metadata": {},
   "outputs": [
    {
     "data": {
      "text/plain": [
       "0"
      ]
     },
     "execution_count": 67,
     "metadata": {},
     "output_type": "execute_result"
    }
   ],
   "source": [
    "l.count('mango')"
   ]
  },
  {
   "cell_type": "code",
   "execution_count": 71,
   "metadata": {},
   "outputs": [
    {
     "data": {
      "text/plain": [
       "0"
      ]
     },
     "execution_count": 71,
     "metadata": {},
     "output_type": "execute_result"
    }
   ],
   "source": [
    "l.index(89)"
   ]
  },
  {
   "cell_type": "code",
   "execution_count": 72,
   "metadata": {},
   "outputs": [
    {
     "data": {
      "text/plain": [
       "3"
      ]
     },
     "execution_count": 72,
     "metadata": {},
     "output_type": "execute_result"
    }
   ],
   "source": [
    "l = ['a','b','c','d','e','f']\n",
    "\n",
    "l.index('d')"
   ]
  },
  {
   "cell_type": "code",
   "execution_count": 73,
   "metadata": {},
   "outputs": [
    {
     "ename": "ValueError",
     "evalue": "'h' is not in list",
     "output_type": "error",
     "traceback": [
      "\u001b[1;31m---------------------------------------------------------------------------\u001b[0m",
      "\u001b[1;31mValueError\u001b[0m                                Traceback (most recent call last)",
      "\u001b[1;32m<ipython-input-73-38c8eeb27d51>\u001b[0m in \u001b[0;36m<module>\u001b[1;34m\u001b[0m\n\u001b[1;32m----> 1\u001b[1;33m \u001b[0ml\u001b[0m\u001b[1;33m.\u001b[0m\u001b[0mindex\u001b[0m\u001b[1;33m(\u001b[0m\u001b[1;34m'h'\u001b[0m\u001b[1;33m)\u001b[0m\u001b[1;33m\u001b[0m\u001b[1;33m\u001b[0m\u001b[0m\n\u001b[0m",
      "\u001b[1;31mValueError\u001b[0m: 'h' is not in list"
     ]
    }
   ],
   "source": [
    "l.index('h')"
   ]
  },
  {
   "cell_type": "code",
   "execution_count": 74,
   "metadata": {},
   "outputs": [
    {
     "data": {
      "text/plain": [
       "0"
      ]
     },
     "execution_count": 74,
     "metadata": {},
     "output_type": "execute_result"
    }
   ],
   "source": [
    "l.count('h')"
   ]
  },
  {
   "cell_type": "markdown",
   "metadata": {},
   "source": [
    "<!-- HW Questions: -->\n",
    "## Q4.) Use range(1,21) make two list, one should contain even numbers and the other should contain odd numbers"
   ]
  },
  {
   "cell_type": "markdown",
   "metadata": {},
   "source": [
    "## Q.5) given two tuples , arrange their unique elements in sorted order in a list\n",
    "\n",
    "### Intuition: Tuples are immutable, create an empty list to store the unique elements and sort them.\n",
    "\n",
    "### Pseudocode:\n",
    "    1.)Create a new tuple by adding them.\n",
    "    2.)loop through them to append only value not already present\n",
    "    3.)finally use sorted method on the list."
   ]
  },
  {
   "cell_type": "markdown",
   "metadata": {},
   "source": [
    "### Q.6): Do the following\n",
    "    a)Create a tuple with single item 2."
   ]
  },
  {
   "cell_type": "code",
   "execution_count": null,
   "metadata": {},
   "outputs": [],
   "source": []
  }
 ],
 "metadata": {
  "kernelspec": {
   "display_name": "Python 3",
   "language": "python",
   "name": "python3"
  },
  "language_info": {
   "codemirror_mode": {
    "name": "ipython",
    "version": 3
   },
   "file_extension": ".py",
   "mimetype": "text/x-python",
   "name": "python",
   "nbconvert_exporter": "python",
   "pygments_lexer": "ipython3",
   "version": "3.8.3"
  }
 },
 "nbformat": 4,
 "nbformat_minor": 4
}
